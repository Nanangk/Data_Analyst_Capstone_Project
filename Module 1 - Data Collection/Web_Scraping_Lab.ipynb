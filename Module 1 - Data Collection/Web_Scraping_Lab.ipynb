{
  "nbformat": 4,
  "nbformat_minor": 0,
  "metadata": {
    "kernelspec": {
      "display_name": "Python 3",
      "language": "python",
      "name": "python3"
    },
    "language_info": {
      "codemirror_mode": {
        "name": "ipython",
        "version": 3
      },
      "file_extension": ".py",
      "mimetype": "text/x-python",
      "name": "python",
      "nbconvert_exporter": "python",
      "pygments_lexer": "ipython3",
      "version": "3.7.6"
    },
    "colab": {
      "name": "Web-Scraping-Lab.ipynb",
      "provenance": []
    }
  },
  "cells": [
    {
      "cell_type": "markdown",
      "metadata": {
        "id": "4MCUVo97BfcT"
      },
      "source": [
        "<center>\n",
        "    <img src=\"https://gitlab.com/ibm/skills-network/courses/placeholder101/-/raw/master/labs/module%201/images/IDSNlogo.png\" width=\"300\" alt=\"cognitiveclass.ai logo\"  />\n",
        "</center>\n"
      ]
    },
    {
      "cell_type": "markdown",
      "metadata": {
        "id": "zjvWq4wtBfcY"
      },
      "source": [
        "# **Hands-on Lab : Web Scraping**\n"
      ]
    },
    {
      "cell_type": "markdown",
      "metadata": {
        "id": "mT_bPiXjBfcZ"
      },
      "source": [
        "Estimated time needed: **30 to 45** minutes\n"
      ]
    },
    {
      "cell_type": "markdown",
      "metadata": {
        "id": "3b11nXZ4BfcZ"
      },
      "source": [
        "## Objectives\n"
      ]
    },
    {
      "cell_type": "markdown",
      "metadata": {
        "id": "NHRHUaZPBfca"
      },
      "source": [
        "In this lab you will perform the following:\n"
      ]
    },
    {
      "cell_type": "markdown",
      "metadata": {
        "id": "-JP5M0bRBfca"
      },
      "source": [
        "*   Extract information from a given web site\n",
        "*   Write the scraped data into a csv file.\n"
      ]
    },
    {
      "cell_type": "markdown",
      "metadata": {
        "id": "Tw_4aYjwBfca"
      },
      "source": [
        "## Extract information from the given web site\n",
        "\n",
        "You will extract the data from the below web site: <br>\n"
      ]
    },
    {
      "cell_type": "code",
      "metadata": {
        "id": "MRiELET9Bfcb"
      },
      "source": [
        "#this url contains the data you need to scrape\n",
        "url = \"https://cf-courses-data.s3.us.cloud-object-storage.appdomain.cloud/IBM-DA0321EN-SkillsNetwork/labs/datasets/Programming_Languages.html\""
      ],
      "execution_count": 6,
      "outputs": []
    },
    {
      "cell_type": "markdown",
      "metadata": {
        "id": "NU_676irBfcc"
      },
      "source": [
        "The data you need to scrape is the **name of the programming language** and **average annual salary**.<br> It is a good idea to open the url in your web broswer and study the contents of the web page before you start to scrape.\n"
      ]
    },
    {
      "cell_type": "markdown",
      "metadata": {
        "id": "P0kcb7fQBfcc"
      },
      "source": [
        "Import the required libraries\n"
      ]
    },
    {
      "cell_type": "code",
      "metadata": {
        "id": "S_3oq5yQBfcd"
      },
      "source": [
        "# Your code here\n",
        "from bs4 import BeautifulSoup # this module helps in web scrapping.\n",
        "import requests  # this module helps us to download a web page"
      ],
      "execution_count": 7,
      "outputs": []
    },
    {
      "cell_type": "markdown",
      "metadata": {
        "id": "wRLLEtvqBfcd"
      },
      "source": [
        "Download the webpage at the url\n"
      ]
    },
    {
      "cell_type": "code",
      "metadata": {
        "id": "BMrzgq2iBfcd"
      },
      "source": [
        "#your code goes here\n",
        "data  = requests.get(url).text"
      ],
      "execution_count": 8,
      "outputs": []
    },
    {
      "cell_type": "markdown",
      "metadata": {
        "id": "F5D1CBZaBfce"
      },
      "source": [
        "Create a soup object\n"
      ]
    },
    {
      "cell_type": "code",
      "metadata": {
        "id": "nyKvq7McBfce"
      },
      "source": [
        "#your code goes here\n",
        "soup = BeautifulSoup(data,\"html5lib\")  # create a soup object using the variable 'data'"
      ],
      "execution_count": 9,
      "outputs": []
    },
    {
      "cell_type": "markdown",
      "metadata": {
        "id": "WYyNWRSyBfce"
      },
      "source": [
        "Scrape the `Language name` and `annual average salary`.\n"
      ]
    },
    {
      "cell_type": "code",
      "metadata": {
        "colab": {
          "base_uri": "https://localhost:8080/"
        },
        "id": "sdx4o0KeBfce",
        "outputId": "17c1f20a-d67a-4b30-f5ba-c8a5a3c503f7"
      },
      "source": [
        "#your code goes here\n",
        "table = soup.find('table') # in html table is represented by the tag <table>\n",
        "\n",
        "language = []\n",
        "salary = []\n",
        "#Get all rows from the table\n",
        "for row in table.find_all('tr'): # in html table row is represented by the tag <tr>\n",
        "    # Get all columns in each row.\n",
        "    cols = row.find_all('td') # in html a column is represented by the tag <td>\n",
        "    language_name = cols[1].getText() # store the value in column 3 as color_name\n",
        "    average_annual_salary = cols[3].getText() # store the value in column 4 as color_code\n",
        "    print(\"{}--->{}\".format(language_name,average_annual_salary))\n",
        "    language.append(language_name)\n",
        "    salary.append(average_annual_salary)\n",
        "\n",
        "print(language[1:])"
      ],
      "execution_count": 16,
      "outputs": [
        {
          "output_type": "stream",
          "text": [
            "Language--->Average Annual Salary\n",
            "Python--->$114,383\n",
            "Java--->$101,013\n",
            "R--->$92,037\n",
            "Javascript--->$110,981\n",
            "Swift--->$130,801\n",
            "C++--->$113,865\n",
            "C#--->$88,726\n",
            "PHP--->$84,727\n",
            "SQL--->$84,793\n",
            "Go--->$94,082\n",
            "['Python', 'Java', 'R', 'Javascript', 'Swift', 'C++', 'C#', 'PHP', 'SQL', 'Go']\n"
          ],
          "name": "stdout"
        }
      ]
    },
    {
      "cell_type": "markdown",
      "metadata": {
        "id": "DtqjS5NXBfcf"
      },
      "source": [
        "Save the scrapped data into a file named *popular-languages.csv*\n"
      ]
    },
    {
      "cell_type": "code",
      "metadata": {
        "colab": {
          "base_uri": "https://localhost:8080/",
          "height": 203
        },
        "id": "fH4NqqqpBfcf",
        "outputId": "b72466f4-cfa8-4d81-9e6b-5a587977f979"
      },
      "source": [
        "# your code goes here\n",
        "import pandas as pd\n",
        "df = {'Language name' : language[1:], 'annual average salary':salary[1:]}\n",
        "df = pd.DataFrame(df)\n",
        "df.head()"
      ],
      "execution_count": 22,
      "outputs": [
        {
          "output_type": "execute_result",
          "data": {
            "text/html": [
              "<div>\n",
              "<style scoped>\n",
              "    .dataframe tbody tr th:only-of-type {\n",
              "        vertical-align: middle;\n",
              "    }\n",
              "\n",
              "    .dataframe tbody tr th {\n",
              "        vertical-align: top;\n",
              "    }\n",
              "\n",
              "    .dataframe thead th {\n",
              "        text-align: right;\n",
              "    }\n",
              "</style>\n",
              "<table border=\"1\" class=\"dataframe\">\n",
              "  <thead>\n",
              "    <tr style=\"text-align: right;\">\n",
              "      <th></th>\n",
              "      <th>Language name</th>\n",
              "      <th>annual average salary</th>\n",
              "    </tr>\n",
              "  </thead>\n",
              "  <tbody>\n",
              "    <tr>\n",
              "      <th>0</th>\n",
              "      <td>Python</td>\n",
              "      <td>$114,383</td>\n",
              "    </tr>\n",
              "    <tr>\n",
              "      <th>1</th>\n",
              "      <td>Java</td>\n",
              "      <td>$101,013</td>\n",
              "    </tr>\n",
              "    <tr>\n",
              "      <th>2</th>\n",
              "      <td>R</td>\n",
              "      <td>$92,037</td>\n",
              "    </tr>\n",
              "    <tr>\n",
              "      <th>3</th>\n",
              "      <td>Javascript</td>\n",
              "      <td>$110,981</td>\n",
              "    </tr>\n",
              "    <tr>\n",
              "      <th>4</th>\n",
              "      <td>Swift</td>\n",
              "      <td>$130,801</td>\n",
              "    </tr>\n",
              "  </tbody>\n",
              "</table>\n",
              "</div>"
            ],
            "text/plain": [
              "  Language name annual average salary\n",
              "0        Python              $114,383\n",
              "1          Java              $101,013\n",
              "2             R               $92,037\n",
              "3    Javascript              $110,981\n",
              "4         Swift              $130,801"
            ]
          },
          "metadata": {
            "tags": []
          },
          "execution_count": 22
        }
      ]
    },
    {
      "cell_type": "code",
      "metadata": {
        "id": "2TCV2i2KGWrG"
      },
      "source": [
        "df.to_csv('dataset.csv')"
      ],
      "execution_count": 23,
      "outputs": []
    },
    {
      "cell_type": "markdown",
      "metadata": {
        "id": "aKUkY5WIBfcf"
      },
      "source": [
        "## Authors\n"
      ]
    },
    {
      "cell_type": "markdown",
      "metadata": {
        "id": "QRhj6yvjBfcf"
      },
      "source": [
        "Ramesh Sannareddy\n"
      ]
    },
    {
      "cell_type": "markdown",
      "metadata": {
        "id": "TdksVsI3Bfcg"
      },
      "source": [
        "### Other Contributors\n"
      ]
    },
    {
      "cell_type": "markdown",
      "metadata": {
        "id": "dTyNRK2hBfcg"
      },
      "source": [
        "Rav Ahuja\n"
      ]
    },
    {
      "cell_type": "markdown",
      "metadata": {
        "id": "uod0uFLeBfcg"
      },
      "source": [
        "## Change Log\n"
      ]
    },
    {
      "cell_type": "markdown",
      "metadata": {
        "id": "bIAjNxZOBfcg"
      },
      "source": [
        "|  Date (YYYY-MM-DD) |  Version | Changed By  |  Change Description |\n",
        "|---|---|---|---|\n",
        "| 2020-10-17  | 0.1  | Ramesh Sannareddy  |  Created initial version of the lab |\n"
      ]
    },
    {
      "cell_type": "markdown",
      "metadata": {
        "id": "5Qq6xZtNBfch"
      },
      "source": [
        "Copyright © 2020 IBM Corporation. This notebook and its source code are released under the terms of the [MIT License](https://cognitiveclass.ai/mit-license/?utm_medium=Exinfluencer\\&utm_source=Exinfluencer\\&utm_content=000026UJ\\&utm_term=10006555\\&utm_id=NA-SkillsNetwork-Channel-SkillsNetworkCoursesIBMDA0321ENSkillsNetwork21426264-2021-01-01).\n"
      ]
    }
  ]
}